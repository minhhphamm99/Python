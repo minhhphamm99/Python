{
 "cells": [
  {
   "cell_type": "code",
   "execution_count": 36,
   "id": "98f642b7",
   "metadata": {},
   "outputs": [],
   "source": [
    "import pandas as pd\n",
    "import seaborn as sn\n",
    "import matplotlib.pyplot as plt\n",
    "import numpy as np\n",
    "#df=pd.read_csv(\"/Users/minh.pham/Downloads/Iris 3 classes.csv\")\n",
    "url='https://drive.google.com/file/d/1mNro_AjVuQXGfb3WLc0UWK3fdLadL5OI/view?usp=sharing'\n",
    "file_id=url.split('/')[-2]\n",
    "dwn_url='https://drive.google.com/uc?id=' + file_id\n",
    "df = pd.read_csv(dwn_url)"
   ]
  },
  {
   "cell_type": "code",
   "execution_count": 37,
   "id": "884004ba",
   "metadata": {},
   "outputs": [
    {
     "data": {
      "text/html": [
       "<div>\n",
       "<style scoped>\n",
       "    .dataframe tbody tr th:only-of-type {\n",
       "        vertical-align: middle;\n",
       "    }\n",
       "\n",
       "    .dataframe tbody tr th {\n",
       "        vertical-align: top;\n",
       "    }\n",
       "\n",
       "    .dataframe thead th {\n",
       "        text-align: right;\n",
       "    }\n",
       "</style>\n",
       "<table border=\"1\" class=\"dataframe\">\n",
       "  <thead>\n",
       "    <tr style=\"text-align: right;\">\n",
       "      <th></th>\n",
       "      <th>sepal length</th>\n",
       "      <th>sepal width</th>\n",
       "      <th>petal length</th>\n",
       "      <th>petal width</th>\n",
       "      <th>class</th>\n",
       "    </tr>\n",
       "  </thead>\n",
       "  <tbody>\n",
       "    <tr>\n",
       "      <th>0</th>\n",
       "      <td>5.1</td>\n",
       "      <td>3.5</td>\n",
       "      <td>1.4</td>\n",
       "      <td>0.2</td>\n",
       "      <td>Iris-setosa</td>\n",
       "    </tr>\n",
       "    <tr>\n",
       "      <th>1</th>\n",
       "      <td>4.9</td>\n",
       "      <td>3.0</td>\n",
       "      <td>1.4</td>\n",
       "      <td>0.2</td>\n",
       "      <td>Iris-setosa</td>\n",
       "    </tr>\n",
       "    <tr>\n",
       "      <th>2</th>\n",
       "      <td>4.7</td>\n",
       "      <td>3.2</td>\n",
       "      <td>1.3</td>\n",
       "      <td>0.2</td>\n",
       "      <td>Iris-setosa</td>\n",
       "    </tr>\n",
       "    <tr>\n",
       "      <th>3</th>\n",
       "      <td>4.6</td>\n",
       "      <td>3.1</td>\n",
       "      <td>1.5</td>\n",
       "      <td>0.2</td>\n",
       "      <td>Iris-setosa</td>\n",
       "    </tr>\n",
       "    <tr>\n",
       "      <th>4</th>\n",
       "      <td>5.0</td>\n",
       "      <td>3.6</td>\n",
       "      <td>1.4</td>\n",
       "      <td>0.2</td>\n",
       "      <td>Iris-setosa</td>\n",
       "    </tr>\n",
       "    <tr>\n",
       "      <th>...</th>\n",
       "      <td>...</td>\n",
       "      <td>...</td>\n",
       "      <td>...</td>\n",
       "      <td>...</td>\n",
       "      <td>...</td>\n",
       "    </tr>\n",
       "    <tr>\n",
       "      <th>145</th>\n",
       "      <td>6.7</td>\n",
       "      <td>3.0</td>\n",
       "      <td>5.2</td>\n",
       "      <td>2.3</td>\n",
       "      <td>Iris-virginica</td>\n",
       "    </tr>\n",
       "    <tr>\n",
       "      <th>146</th>\n",
       "      <td>6.3</td>\n",
       "      <td>2.5</td>\n",
       "      <td>5.0</td>\n",
       "      <td>1.9</td>\n",
       "      <td>Iris-virginica</td>\n",
       "    </tr>\n",
       "    <tr>\n",
       "      <th>147</th>\n",
       "      <td>6.5</td>\n",
       "      <td>3.0</td>\n",
       "      <td>5.2</td>\n",
       "      <td>2.0</td>\n",
       "      <td>Iris-virginica</td>\n",
       "    </tr>\n",
       "    <tr>\n",
       "      <th>148</th>\n",
       "      <td>6.2</td>\n",
       "      <td>3.4</td>\n",
       "      <td>5.4</td>\n",
       "      <td>2.3</td>\n",
       "      <td>Iris-virginica</td>\n",
       "    </tr>\n",
       "    <tr>\n",
       "      <th>149</th>\n",
       "      <td>5.9</td>\n",
       "      <td>3.0</td>\n",
       "      <td>5.1</td>\n",
       "      <td>1.8</td>\n",
       "      <td>Iris-virginica</td>\n",
       "    </tr>\n",
       "  </tbody>\n",
       "</table>\n",
       "<p>150 rows × 5 columns</p>\n",
       "</div>"
      ],
      "text/plain": [
       "     sepal length  sepal width  petal length  petal width           class\n",
       "0             5.1          3.5           1.4          0.2     Iris-setosa\n",
       "1             4.9          3.0           1.4          0.2     Iris-setosa\n",
       "2             4.7          3.2           1.3          0.2     Iris-setosa\n",
       "3             4.6          3.1           1.5          0.2     Iris-setosa\n",
       "4             5.0          3.6           1.4          0.2     Iris-setosa\n",
       "..            ...          ...           ...          ...             ...\n",
       "145           6.7          3.0           5.2          2.3  Iris-virginica\n",
       "146           6.3          2.5           5.0          1.9  Iris-virginica\n",
       "147           6.5          3.0           5.2          2.0  Iris-virginica\n",
       "148           6.2          3.4           5.4          2.3  Iris-virginica\n",
       "149           5.9          3.0           5.1          1.8  Iris-virginica\n",
       "\n",
       "[150 rows x 5 columns]"
      ]
     },
     "execution_count": 37,
     "metadata": {},
     "output_type": "execute_result"
    }
   ],
   "source": [
    "df\n"
   ]
  },
  {
   "cell_type": "markdown",
   "id": "f9316530",
   "metadata": {},
   "source": [
    "<strong>Count the number of unique classifications"
   ]
  },
  {
   "cell_type": "code",
   "execution_count": 38,
   "id": "76b7da13",
   "metadata": {},
   "outputs": [
    {
     "data": {
      "text/plain": [
       "3"
      ]
     },
     "execution_count": 38,
     "metadata": {},
     "output_type": "execute_result"
    }
   ],
   "source": [
    "df['class'].nunique()"
   ]
  },
  {
   "cell_type": "markdown",
   "id": "34a81ef2",
   "metadata": {},
   "source": [
    "<strong>Making test and train sample for model"
   ]
  },
  {
   "cell_type": "code",
   "execution_count": 39,
   "id": "1d08a6a5",
   "metadata": {},
   "outputs": [],
   "source": [
    "from sklearn.model_selection import train_test_split\n",
    "Y=df['class']\n",
    "X=df.drop('class',axis=1)\n",
    "X_train,X_test,Y_train,Y_test=train_test_split(X,Y,test_size=0.25,random_state=123)\n",
    "#print(X_train,X_test,Y_train,Y_test)"
   ]
  },
  {
   "cell_type": "code",
   "execution_count": 40,
   "id": "291bf778",
   "metadata": {},
   "outputs": [
    {
     "name": "stdout",
     "output_type": "stream",
     "text": [
      "0.9736842105263158\n",
      "['Iris-versicolor' 'Iris-virginica' 'Iris-virginica' 'Iris-versicolor'\n",
      " 'Iris-setosa' 'Iris-virginica' 'Iris-versicolor' 'Iris-setosa'\n",
      " 'Iris-setosa' 'Iris-versicolor' 'Iris-virginica' 'Iris-setosa'\n",
      " 'Iris-versicolor' 'Iris-virginica' 'Iris-virginica' 'Iris-virginica'\n",
      " 'Iris-setosa' 'Iris-setosa' 'Iris-versicolor' 'Iris-setosa' 'Iris-setosa'\n",
      " 'Iris-versicolor' 'Iris-setosa' 'Iris-virginica' 'Iris-setosa'\n",
      " 'Iris-setosa' 'Iris-setosa' 'Iris-virginica' 'Iris-virginica'\n",
      " 'Iris-setosa' 'Iris-virginica' 'Iris-virginica' 'Iris-setosa'\n",
      " 'Iris-setosa' 'Iris-versicolor' 'Iris-versicolor' 'Iris-virginica'\n",
      " 'Iris-setosa']\n",
      "[[1.04104549e-03 6.29755384e-01 3.69203571e-01]\n",
      " [4.28353782e-05 9.48310942e-02 9.05126070e-01]\n",
      " [1.80196167e-05 4.28422203e-02 9.57139760e-01]\n",
      " [3.03954808e-02 9.25002260e-01 4.46022590e-02]\n",
      " [9.59430324e-01 4.05695838e-02 9.22257985e-08]\n",
      " [2.29642762e-03 4.98666467e-01 4.99037106e-01]\n",
      " [3.65823975e-03 9.10527641e-01 8.58141189e-02]\n",
      " [9.84846920e-01 1.51530462e-02 3.38471853e-08]\n",
      " [9.73966932e-01 2.60329825e-02 8.53118766e-08]\n",
      " [1.09528158e-02 8.97600380e-01 9.14468040e-02]\n",
      " [1.76154555e-04 1.64944676e-01 8.34879169e-01]\n",
      " [9.82429375e-01 1.75706064e-02 1.87525486e-08]\n",
      " [4.75513866e-02 9.05440658e-01 4.70079558e-02]\n",
      " [1.03956833e-04 1.66506233e-01 8.33389810e-01]\n",
      " [9.96554058e-07 1.96655951e-02 9.80333408e-01]\n",
      " [8.92834962e-06 2.88467720e-02 9.71144300e-01]\n",
      " [9.69512552e-01 3.04874154e-02 3.22160513e-08]\n",
      " [9.88941591e-01 1.10583967e-02 1.24754114e-08]\n",
      " [3.89439203e-03 7.96392537e-01 1.99713071e-01]\n",
      " [9.65758406e-01 3.42414817e-02 1.12688933e-07]\n",
      " [9.68226372e-01 3.17735735e-02 5.43803640e-08]\n",
      " [7.86212307e-04 5.25414172e-01 4.73799615e-01]\n",
      " [9.37736513e-01 6.22629655e-02 5.21468951e-07]\n",
      " [1.50228166e-03 4.45989887e-01 5.52507831e-01]\n",
      " [9.71371692e-01 2.86282311e-02 7.69281413e-08]\n",
      " [9.29174472e-01 7.08252848e-02 2.43650052e-07]\n",
      " [9.51834580e-01 4.81652539e-02 1.66273973e-07]\n",
      " [1.03746735e-03 2.44974108e-01 7.53988425e-01]\n",
      " [2.35836401e-07 6.92913957e-03 9.93070625e-01]\n",
      " [9.78772828e-01 2.12271342e-02 3.78528804e-08]\n",
      " [2.52818970e-06 4.45677964e-02 9.55429675e-01]\n",
      " [6.25872873e-04 4.93965189e-01 5.05408938e-01]\n",
      " [9.62170230e-01 3.78296095e-02 1.60297493e-07]\n",
      " [9.74015409e-01 2.59845461e-02 4.53948874e-08]\n",
      " [1.15091749e-02 9.71649882e-01 1.68409430e-02]\n",
      " [1.35493322e-01 8.60669312e-01 3.83736535e-03]\n",
      " [1.63864076e-06 2.96153893e-02 9.70382972e-01]\n",
      " [9.57199326e-01 4.28004635e-02 2.10916030e-07]]\n"
     ]
    }
   ],
   "source": [
    "from sklearn.linear_model import LogisticRegression\n",
    "model=LogisticRegression(solver=\"lbfgs\",multi_class=\"multinomial\").fit(X_train,Y_train)\n",
    "print(model.score(X_test,Y_test))\n",
    "print(model.predict(X_test))\n",
    "print(model.predict_proba(X_test))\n"
   ]
  },
  {
   "cell_type": "markdown",
   "id": "254c39cb",
   "metadata": {},
   "source": [
    "<strong>Confusion matrix and heatmap"
   ]
  },
  {
   "cell_type": "code",
   "execution_count": 41,
   "id": "46ee4e05",
   "metadata": {},
   "outputs": [
    {
     "name": "stdout",
     "output_type": "stream",
     "text": [
      "[[16  0  0]\n",
      " [ 0  8  0]\n",
      " [ 0  1 13]]\n"
     ]
    },
    {
     "data": {
      "image/png": "[encoded data removed]",
      "text/plain": [
       "<Figure size 432x288 with 2 Axes>"
      ]
     },
     "metadata": {
      "needs_background": "light"
     },
     "output_type": "display_data"
    }
   ],
   "source": [
    "from sklearn.metrics import confusion_matrix\n",
    "guess=model.predict(X_test)\n",
    "cm=confusion_matrix(Y_test,guess) \n",
    "print(cm)\n",
    "plt.figure()\n",
    "sn.heatmap(cm,annot=True) #font size\n",
    "plt.show()"
   ]
  },
  {
   "cell_type": "markdown",
   "id": "75eda09f",
   "metadata": {},
   "source": [
    "<strong>Changing count number to probabilty ratio"
   ]
  },
  {
   "cell_type": "code",
   "execution_count": 42,
   "id": "f774dd83",
   "metadata": {
    "scrolled": true
   },
   "outputs": [
    {
     "data": {
      "image/png": "[encoded data removed]",
      "text/plain": [
       "<Figure size 432x288 with 2 Axes>"
      ]
     },
     "metadata": {
      "needs_background": "light"
     },
     "output_type": "display_data"
    }
   ],
   "source": [
    "cm=cm/cm.astype(np.float64).sum(axis=1)\n",
    "plt.figure()\n",
    "sn.heatmap(cm,annot=True)\n",
    "plt.show()\n"
   ]
  }
 ],
 "metadata": {
  "kernelspec": {
   "display_name": "Python 3 (ipykernel)",
   "language": "python",
   "name": "python3"
  },
  "language_info": {
   "codemirror_mode": {
    "name": "ipython",
    "version": 3
   },
   "file_extension": ".py",
   "mimetype": "text/x-python",
   "name": "python",
   "nbconvert_exporter": "python",
   "pygments_lexer": "ipython3",
   "version": "3.9.7"
  }
 },
 "nbformat": 4,
 "nbformat_minor": 5
}
